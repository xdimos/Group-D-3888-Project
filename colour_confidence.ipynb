{
 "cells": [
  {
   "cell_type": "markdown",
   "metadata": {},
   "source": [
    "# We are trying to colour the histogram for cutoffs:"
   ]
  },
  {
   "cell_type": "markdown",
   "metadata": {},
   "source": [
    "If you're looking at this and want the useful things to copy just skip to step 2 and check out the edits to the histogram plot stuff!"
   ]
  },
  {
   "cell_type": "markdown",
   "metadata": {},
   "source": [
    "## Step 1: copy a bunch of code so that things run haha"
   ]
  },
  {
   "cell_type": "code",
   "execution_count": 5,
   "metadata": {},
   "outputs": [],
   "source": [
    "#Since I can't figure out how to import network_utilities, I'll just dump Elden's code here.\n",
    "\n",
    "#===============================================================================================================================#\n",
    "# This .py contains some of the standard utility functions that would be frustrating to intersperse in the Jupyter notebooks.   #\n",
    "# Rather, they are included here, and should be imported in with \"import network_utilities as nu\"                               #\n",
    "#===============================================================================================================================#\n",
    "\n",
    "import networkx as nx\n",
    "\n",
    "import numpy as np\n",
    "import scipy as sp\n",
    "import matplotlib.pyplot as plt\n",
    "\n",
    "# let's define a little function to trim the leading \"4932.\" off protein names\n",
    "# This _should_ work with any hierarchy of strings in lists.\n",
    "def trim(protein_name):\n",
    "    if (type(protein_name) is str):   \n",
    "        # returns everything _after_ the first period.\n",
    "        return '.'.join(protein_name.split(\".\")[1:])\n",
    "    elif (type(protein_name) is list):\n",
    "        trimmed_list = []\n",
    "        for name in protein_name:\n",
    "            trimmed_list.append(trim(name))\n",
    "        return trimmed_list\n",
    "\n",
    "# A simple QoL function to cut down a network to a given nodelist (as opposed to the converse, which nx supplies)\n",
    "def cutdown_network(graph, nodelist):\n",
    "    graph_copy = graph.copy(); # just to allow modification\n",
    "    nodes_to_remove = set(graph.nodes) - set(nodelist);\n",
    "    graph_copy.remove_nodes_from(nodes_to_remove)\n",
    "    return graph_copy\n",
    "\n",
    "# My custom drawing function, with all my prefered defaults set. \n",
    "def my_draw(graph, # The networkx network to be plotted\n",
    "            kkl=False, # whether to use Kamada Kawai algorithm for layout. Looks nice, but is (much) slower\n",
    "            color_by_weight=True, # Edge colors by confidence weight. \n",
    "                                  # ...Most of the nice things here assume this is True. Turn off at your peril... plus it looks pretty :P\n",
    "            node_color=\"Blue\", # Either a single string \"Blue\", \"b\", \"r\", or a list of the colors of individual node colors in order\n",
    "            node_size=10, # Similar to above\n",
    "            alpha=0.8, # The _node_ opacity. Similar to above (single value or list). Note that this will be modulated\n",
    "            key_text=None, # Text at the bottom of the figure\n",
    "            title_text=None, # Text above figure\n",
    "            \n",
    "            with_labels=False, # whether to include node labels. Can get very messy.\n",
    "            labels=None, # if with_labels is true, and this an array, then these labels are printed instead.\n",
    "            font_size=10,\n",
    "            \n",
    "            delay_show=False): # whether to not run plt.show() at end. Use this if you want to include more matplotlib details,\n",
    "                               # or with to run nu.draw_path_from_nodes(...) - see below \n",
    "    # \"make a new figure\"\n",
    "    network_fig = plt.figure(figsize=(12,12))\n",
    "    # Pick the layout option. At the moment I just have KK or spring. KK is much more time-intensive.\n",
    "    if (kkl):\n",
    "        my_layout = nx.kamada_kawai_layout(graph, weight=None);\n",
    "    else:\n",
    "        my_layout = nx.spring_layout(graph, k=0.5);\n",
    "    # We will almost always want to color by weight... if only 'cause it is prettier!\n",
    "    if (color_by_weight):\n",
    "        edges = graph.edges()\n",
    "        weights = [graph[u][v]['weight'] for u,v in edges]\n",
    "        # Pick the colormap here if you like!\n",
    "        cmap=plt.cm.plasma;\n",
    "        # TODO \n",
    "        these_labels = None;\n",
    "        if (with_labels and labels is None):\n",
    "                        node_names = list(graph.nodes);\n",
    "                        these_labels = {l : l for l in node_names} # note that we need to pass a dict not a list\n",
    "                        nx.draw_networkx_labels(graph, my_layout, labels=these_labels, font_size=font_size)\n",
    "        elif (with_labels and labels is not None):\n",
    "            node_names = list(graph.nodes);\n",
    "            dict_labels = {node_names[l] : labels[l] for l in range(len(node_names))}\n",
    "            nx.draw_networkx_labels(graph, my_layout, labels=dict_labels, font_size=font_size)\n",
    "            \n",
    "        nx.draw_networkx_nodes(graph, pos=my_layout, node_size=node_size, alpha=alpha, node_color=node_color)\n",
    "        nx.draw_networkx_edges(graph, pos=my_layout, edge_color=weights, edge_cmap=cmap, width=0.2)\n",
    "\n",
    "        # Adding a colorbar as per https://stackoverflow.com/questions/26739248/how-to-add-a-simple-colorbar-to-a-network-graph-plot-in-python\n",
    "        sm = plt.cm.ScalarMappable(cmap=cmap, norm=plt.Normalize(vmin = min(weights), vmax=max(weights)))\n",
    "        sm._A = [];\n",
    "        cb = plt.colorbar(sm, aspect=50, fraction=0.05);\n",
    "        cb.set_label(\"Confidence score\", fontsize=15);\n",
    "    else:\n",
    "        # If not coloring by weight... (I really haven't worked to make this that nice though!)\n",
    "        nx.draw(graph, pos=my_layout, node_size=node_size, alpha=alpha, node_color=node_color, font_size='10',with_labels=False)\n",
    "    # Title, and text in bottom left\n",
    "    if (key_text is not None):\n",
    "        network_fig.text(0.15,0.15, key_text, fontsize=15, fontweight='light')\n",
    "    if (title_text is not None):\n",
    "        plt.title(title_text);\n",
    "    # \"show the figure\"\n",
    "    if (delay_show is False): plt.show();\n",
    "    return my_layout;"
   ]
  },
  {
   "cell_type": "code",
   "execution_count": 6,
   "metadata": {},
   "outputs": [],
   "source": [
    "#Credit to Elden Loomes for creating the code below. Now if I could just figure out how to import network_utilities...\n",
    "\n",
    "\"\"\"Imports and arguments\"\"\"\n",
    "\n",
    "import csv\n",
    "\n",
    "#import networkx as nx\n",
    "\n",
    "#import numpy as np\n",
    "#import scipy as sp\n",
    "#import matplotlib.pyplot as plt\n",
    "#import network_utilities as nu\n",
    "import random\n",
    "import networkx.algorithms.community as nx_comm\n",
    "\n",
    "# some basic settings for plotting figures\n",
    "%matplotlib inline \n",
    "font = {'family' : 'serif',\n",
    "        'weight' : 'light',\n",
    "        'size'   : 20}\n",
    "\n",
    "plt.rc('font', **font)\n",
    "\n",
    "# THE PROTEIN OF INTEREST ================================#\n",
    "this_protein = 'YNL267W';                                 #\n",
    "# ========================================================#\n",
    "\n",
    "long_outputs = True;"
   ]
  },
  {
   "cell_type": "markdown",
   "metadata": {},
   "source": [
    "## Step 2: look at the actual histogram code and edit this!"
   ]
  },
  {
   "cell_type": "code",
   "execution_count": 37,
   "metadata": {},
   "outputs": [
    {
     "data": {
      "image/png": "[encoded data removed]",
      "text/plain": [
       "<Figure size 432x432 with 1 Axes>"
      ]
     },
     "metadata": {
      "needs_background": "light"
     },
     "output_type": "display_data"
    },
    {
     "name": "stdout",
     "output_type": "stream",
     "text": [
      "\n"
     ]
    }
   ],
   "source": [
    "\"\"\"Loading Data\"\"\"\n",
    "\n",
    "# This is the variable that will store the protein names. \n",
    "ess_list = [];\n",
    "\n",
    "with open(\"essential_proteins.csv\", newline='') as ess_file:\n",
    "    reader = csv.reader(ess_file)\n",
    "    ess_data = list(reader)\n",
    "\n",
    "for i in range(len(ess_data)):\n",
    "    ess_list.append(ess_data[i][1])\n",
    "    \n",
    "# Read in the string-db for Yeast\n",
    "G0 = nx.read_weighted_edgelist(\"yeast_protein_edgelist_trimmed.txt\",comments=\"#\",nodetype=str)\n",
    "threshold_score = 700; #we need the threshold score earlier so we can colour confidence!\n",
    "\n",
    "# For interest, plot the distribution of confidence scores\n",
    "if (long_outputs):\n",
    "    plt.figure(figsize=(6,6));\n",
    "    full_edges = G0.edges()\n",
    "    these_weights = [G0[u][v]['weight'] for u,v in full_edges]\n",
    "    these_weights_ar = np.array(these_weights)\n",
    "    these_weights_under = these_weights_ar[these_weights_ar<=threshold_score]\n",
    "    these_weights_over = these_weights_ar[these_weights_ar>threshold_score]\n",
    "    binwidth = 20 #this is what to change if you want more or less bins! \n",
    "    min_under = int(min(these_weights_under))\n",
    "    max_under=int(max(these_weights_under))\n",
    "    min_over = int(min(these_weights_over))\n",
    "    max_over= int(max(these_weights_over))\n",
    "    plt.hist(these_weights_under, bins=range(min_under, max_under + binwidth, binwidth),color=\"skyblue\")\n",
    "    plt.hist(these_weights_over,bins=range(min_over, max_over + binwidth, binwidth),color=\"pink\")\n",
    "    plt.title(\"Confidence score distribution\")\n",
    "    plt.xlabel(\"Confidence score\")\n",
    "    plt.ylabel(\"# Edges\")\n",
    "    plt.show();\n",
    "    \n",
    "# delete those edges with a combined score of <= threshold_score (small confidence)\n",
    "\n",
    "for edge in G0.edges: \n",
    "    weight = list(G0.get_edge_data(edge[0],edge[1]).values())\n",
    "    if(weight[0] <= threshold_score):\n",
    "        G0.remove_edge(edge[0],edge[1])\n",
    "        \n",
    "# Take only the largest connected subgraph\n",
    "largest_cc = max(nx.connected_components(G0),key=len)\n",
    "G = G0.subgraph(largest_cc);\n",
    "print(G)"
   ]
  },
  {
   "cell_type": "markdown",
   "metadata": {},
   "source": [
    "## Code working below - can ignore this, was just me figuring out how to work with it"
   ]
  },
  {
   "cell_type": "code",
   "execution_count": 8,
   "metadata": {},
   "outputs": [],
   "source": [
    "G0 = nx.read_weighted_edgelist(\"4932.protein.links.v11.5.txt\")"
   ]
  },
  {
   "cell_type": "code",
   "execution_count": 10,
   "metadata": {},
   "outputs": [
    {
     "data": {
      "image/png": "[encoded data removed]",
      "text/plain": [
       "<Figure size 432x288 with 1 Axes>"
      ]
     },
     "metadata": {
      "needs_background": "light"
     },
     "output_type": "display_data"
    }
   ],
   "source": [
    "full_edges = G0.edges()\n",
    "these_weights = [G0[u][v]['weight'] for u,v in full_edges]\n",
    "plt.hist(these_weights, bins=40);"
   ]
  },
  {
   "cell_type": "code",
   "execution_count": 18,
   "metadata": {},
   "outputs": [],
   "source": [
    "these_weights_ar = np.array(these_weights)"
   ]
  },
  {
   "cell_type": "code",
   "execution_count": 19,
   "metadata": {},
   "outputs": [
    {
     "data": {
      "text/plain": [
       "array([347., 945., 163., ..., 173., 950., 920.])"
      ]
     },
     "execution_count": 19,
     "metadata": {},
     "output_type": "execute_result"
    }
   ],
   "source": [
    "these_weights_ar"
   ]
  },
  {
   "cell_type": "code",
   "execution_count": 20,
   "metadata": {},
   "outputs": [],
   "source": [
    "\n",
    "these_weights_under = these_weights_ar[these_weights_ar<=700]\n",
    "these_weights_over = these_weights_ar[these_weights_ar>700]"
   ]
  },
  {
   "cell_type": "code",
   "execution_count": 35,
   "metadata": {},
   "outputs": [
    {
     "data": {
      "image/png": "[encoded data removed]",
      "text/plain": [
       "<Figure size 432x288 with 1 Axes>"
      ]
     },
     "metadata": {
      "needs_background": "light"
     },
     "output_type": "display_data"
    }
   ],
   "source": [
    "binwidth = 20\n",
    "min_under = int(min(these_weights_under))\n",
    "max_under=int(max(these_weights_under))\n",
    "min_over = int(min(these_weights_over))\n",
    "max_over= int(max(these_weights_over))\n",
    "\n",
    "plt.hist(these_weights_under, bins=range(min_under, max_under + binwidth, binwidth),color=\"skyblue\")\n",
    "plt.hist(these_weights_over,bins=range(min_over, max_over + binwidth, binwidth),color=\"pink\")\n",
    "plt.show()"
   ]
  },
  {
   "cell_type": "code",
   "execution_count": 26,
   "metadata": {},
   "outputs": [
    {
     "data": {
      "text/plain": [
       "700"
      ]
     },
     "execution_count": 26,
     "metadata": {},
     "output_type": "execute_result"
    }
   ],
   "source": [
    "int(max(these_weights_under))"
   ]
  },
  {
   "cell_type": "code",
   "execution_count": 32,
   "metadata": {},
   "outputs": [
    {
     "data": {
      "text/plain": [
       "701"
      ]
     },
     "execution_count": 32,
     "metadata": {},
     "output_type": "execute_result"
    }
   ],
   "source": [
    "min_over"
   ]
  },
  {
   "cell_type": "code",
   "execution_count": null,
   "metadata": {},
   "outputs": [],
   "source": []
  }
 ],
 "metadata": {
  "kernelspec": {
   "display_name": "Python 3",
   "language": "python",
   "name": "python3"
  },
  "language_info": {
   "codemirror_mode": {
    "name": "ipython",
    "version": 3
   },
   "file_extension": ".py",
   "mimetype": "text/x-python",
   "name": "python",
   "nbconvert_exporter": "python",
   "pygments_lexer": "ipython3",
   "version": "3.7.6"
  }
 },
 "nbformat": 4,
 "nbformat_minor": 4
}
