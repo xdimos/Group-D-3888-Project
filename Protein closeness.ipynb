{
 "cells": [
  {
   "cell_type": "markdown",
   "id": "43a4f8f2",
   "metadata": {},
   "source": [
    "For Mariah, I am estimating the closeness of two human proteins, \n",
    "\n",
    "I will do so by comparing the number of paths of l=1,...,4 length, to the average number, estimated from a handful of random pairs.\n",
    "\n",
    "Mariah: use homo sapiens with ENSP00000229239 and ENSP00000405573.\n",
    "Remi wants: YBL093C, ROX3. YJR066W, TOR1"
   ]
  },
  {
   "cell_type": "code",
   "execution_count": 1,
   "id": "97f66624",
   "metadata": {},
   "outputs": [],
   "source": [
    "\"\"\"Imports and arguments\"\"\"\n",
    "\n",
    "import csv\n",
    "\n",
    "import networkx as nx\n",
    "\n",
    "import numpy as np\n",
    "import scipy as sp\n",
    "import numpy.linalg as lin\n",
    "import numpy.random as rand\n",
    "import matplotlib.pyplot as plt\n",
    "import network_utilities as nu\n",
    "import networkx.algorithms.community as nx_comm\n",
    "import tensorflow as tf\n",
    "\n",
    "# some basic settings for plotting figures\n",
    "%matplotlib inline \n",
    "font = {'family' : 'serif',\n",
    "        'weight' : 'light',\n",
    "        'size'   : 20}\n",
    "\n",
    "plt.rc('font', **font)\n",
    "\n",
    "extra_outputs = False;"
   ]
  },
  {
   "cell_type": "code",
   "execution_count": 2,
   "id": "c5d39df1",
   "metadata": {},
   "outputs": [
    {
     "name": "stdout",
     "output_type": "stream",
     "text": [
      "Graph with 5932 nodes and 119977 edges\n"
     ]
    }
   ],
   "source": [
    "\"\"\"Loading data\"\"\"\n",
    "\n",
    "# This is the variable that will store the protein names. \n",
    "ess_list = []; \n",
    "\n",
    "with open('essential_proteins.csv', newline='') as ess_file:\n",
    "    reader = csv.reader(ess_file)\n",
    "    ess_data = list(reader)\n",
    "\n",
    "for i in range(len(ess_data)):\n",
    "    ess_list.append(ess_data[i][1])\n",
    "    \n",
    "# Read in the string-db for Yeast\n",
    "G0 = nx.read_weighted_edgelist(\"./yeast_protein_edgelist_trimmed.txt\",comments=\"#\",nodetype=str)\n",
    "\n",
    "# For interest, plot the distribution of confidence scores\n",
    "if (extra_outputs):\n",
    "    plt.figure(figsize=(6,6));\n",
    "    full_edges = G0.edges()\n",
    "    these_weights = [G0[u][v]['weight'] for u,v in full_edges]\n",
    "\n",
    "    plt.hist(these_weights, bins=40);\n",
    "    plt.title(\"Confidence score distribution\")\n",
    "    plt.xlabel(\"Confidence score\")\n",
    "    plt.ylabel(\"# Edges\")\n",
    "    plt.show();\n",
    "    \n",
    "# delete those edges with a combined score of <= threshold_score (small confidence)\n",
    "threshold_score = 700;\n",
    "for edge in G0.edges: \n",
    "    weight = list(G0.get_edge_data(edge[0],edge[1]).values())\n",
    "    if(weight[0] <= threshold_score):\n",
    "        G0.remove_edge(edge[0],edge[1])\n",
    "        \n",
    "# Take only the largest connected subgraph\n",
    "largest_cc = max(nx.connected_components(G0),key=len)\n",
    "G = G0.subgraph(largest_cc);\n",
    "print(G)"
   ]
  },
  {
   "cell_type": "markdown",
   "id": "c46f1cc0",
   "metadata": {},
   "source": [
    "First we look at the geodesic distance:"
   ]
  },
  {
   "cell_type": "code",
   "execution_count": 62,
   "id": "1832530a",
   "metadata": {},
   "outputs": [
    {
     "name": "stdout",
     "output_type": "stream",
     "text": [
      "This is the output of Elden's code, looking for paths between proteins YBL093C and YJR066W\n",
      "\n",
      "The proteins are 3 steps apart\n",
      "\n",
      "There are 69 paths of length 3 . They are:\n",
      "['YBL093C', 'YOL051W', 'YEL009C', 'YJR066W']\n",
      "['YBL093C', 'YDL140C', 'YEL009C', 'YJR066W']\n",
      "['YBL093C', 'YDR308C', 'YEL009C', 'YJR066W']\n",
      "['YBL093C', 'YML007W', 'YEL009C', 'YJR066W']\n",
      "['YBL093C', 'YOR140W', 'YEL009C', 'YJR066W']\n",
      "['YBL093C', 'YPL042C', 'YEL009C', 'YJR066W']\n",
      "['YBL093C', 'YPR086W', 'YEL009C', 'YJR066W']\n",
      "['YBL093C', 'YGL025C', 'YEL009C', 'YJR066W']\n",
      "['YBL093C', 'YER148W', 'YEL009C', 'YJR066W']\n",
      "['YBL093C', 'YHR041C', 'YEL009C', 'YJR066W']\n",
      "['YBL093C', 'YOL051W', 'YGR252W', 'YJR066W']\n",
      "['YBL093C', 'YPL129W', 'YGR252W', 'YJR066W']\n",
      "['YBL093C', 'YDL140C', 'YGR252W', 'YJR066W']\n",
      "['YBL093C', 'YKL058W', 'YGR252W', 'YJR066W']\n",
      "['YBL093C', 'YNL236W', 'YGR252W', 'YJR066W']\n",
      "['YBL093C', 'YPL042C', 'YGR252W', 'YJR066W']\n",
      "['YBL093C', 'YPR086W', 'YGR252W', 'YJR066W']\n",
      "['YBL093C', 'YER148W', 'YGR252W', 'YJR066W']\n",
      "['YBL093C', 'YOR194C', 'YGR252W', 'YJR066W']\n",
      "['YBL093C', 'YOR151C', 'YGR252W', 'YJR066W']\n",
      "['YBL093C', 'YBR154C', 'YDR190C', 'YJR066W']\n",
      "['YBL093C', 'YPL129W', 'YDR190C', 'YJR066W']\n",
      "['YBL093C', 'YDL140C', 'YDR190C', 'YJR066W']\n",
      "['YBL093C', 'YER148W', 'YDR190C', 'YJR066W']\n",
      "['YBL093C', 'YOR151C', 'YDR190C', 'YJR066W']\n",
      "['YBL093C', 'YBR154C', 'YPL178W', 'YJR066W']\n",
      "['YBL093C', 'YOR210W', 'YPL178W', 'YJR066W']\n",
      "['YBL093C', 'YDL140C', 'YPL178W', 'YJR066W']\n",
      "['YBL093C', 'YIL021W', 'YPL178W', 'YJR066W']\n",
      "['YBL093C', 'YOL005C', 'YPL178W', 'YJR066W']\n",
      "['YBL093C', 'YDR404C', 'YPL178W', 'YJR066W']\n",
      "['YBL093C', 'YBR154C', 'YPL235W', 'YJR066W']\n",
      "['YBL093C', 'YPL129W', 'YPL235W', 'YJR066W']\n",
      "['YBL093C', 'YDL140C', 'YPL235W', 'YJR066W']\n",
      "['YBL093C', 'YER148W', 'YPL235W', 'YJR066W']\n",
      "['YBL093C', 'YNL025C', 'YDR477W', 'YJR066W']\n",
      "['YBL093C', 'YDR443C', 'YDR477W', 'YJR066W']\n",
      "['YBL093C', 'YPL042C', 'YDR477W', 'YJR066W']\n",
      "['YBL093C', 'YKR062W', 'YGR274C', 'YJR066W']\n",
      "['YBL093C', 'YPL129W', 'YGR274C', 'YJR066W']\n",
      "['YBL093C', 'YDL140C', 'YGR274C', 'YJR066W']\n",
      "['YBL093C', 'YKL058W', 'YGR274C', 'YJR066W']\n",
      "['YBL093C', 'YGR186W', 'YGR274C', 'YJR066W']\n",
      "['YBL093C', 'YPR086W', 'YGR274C', 'YJR066W']\n",
      "['YBL093C', 'YDR460W', 'YGR274C', 'YJR066W']\n",
      "['YBL093C', 'YDR404C', 'YGR274C', 'YJR066W']\n",
      "['YBL093C', 'YGR005C', 'YGR274C', 'YJR066W']\n",
      "['YBL093C', 'YER148W', 'YGR274C', 'YJR066W']\n",
      "['YBL093C', 'YOR194C', 'YGR274C', 'YJR066W']\n",
      "['YBL093C', 'YOR151C', 'YGR274C', 'YJR066W']\n",
      "['YBL093C', 'YPL129W', 'YFL039C', 'YJR066W']\n",
      "['YBL093C', 'YDL140C', 'YFL039C', 'YJR066W']\n",
      "['YBL093C', 'YML007W', 'YFL039C', 'YJR066W']\n",
      "['YBL093C', 'YDR404C', 'YFL039C', 'YJR066W']\n",
      "['YBL093C', 'YER148W', 'YFL039C', 'YJR066W']\n",
      "['YBL093C', 'YDL140C', 'YLR113W', 'YJR066W']\n",
      "['YBL093C', 'YML007W', 'YLR113W', 'YJR066W']\n",
      "['YBL093C', 'YDL140C', 'YHR030C', 'YJR066W']\n",
      "['YBL093C', 'YDL140C', 'YLR318W', 'YJR066W']\n",
      "['YBL093C', 'YDR443C', 'YFL033C', 'YJR066W']\n",
      "['YBL093C', 'YML007W', 'YKL062W', 'YJR066W']\n",
      "['YBL093C', 'YML007W', 'YLR403W', 'YJR066W']\n",
      "['YBL093C', 'YML007W', 'YMR037C', 'YJR066W']\n",
      "['YBL093C', 'YOR140W', 'YDR043C', 'YJR066W']\n",
      "['YBL093C', 'YOR140W', 'YER177W', 'YJR066W']\n",
      "['YBL093C', 'YOR140W', 'YJL005W', 'YJR066W']\n",
      "['YBL093C', 'YDR404C', 'YDL042C', 'YJR066W']\n",
      "['YBL093C', 'YER171W', 'YBL088C', 'YJR066W']\n",
      "['YBL093C', 'YER171W', 'YMR284W', 'YJR066W']\n",
      "\n",
      "There are 50 unique proteins among these paths. They are (ordered from lowest to highest degree; roughly representing 'importance'):\n",
      "0 : YOR140W\n",
      "1 : YLR403W\n",
      "2 : YGL025C\n",
      "3 : YFL033C\n",
      "4 : YDR043C\n",
      "5 : YNL236W\n",
      "6 : YDR443C\n",
      "7 : YOL051W\n",
      "8 : YNL025C\n",
      "9 : YBL093C\n",
      "10 : YKL062W\n",
      "11 : YHR041C\n",
      "12 : YDR308C\n",
      "13 : YGR274C\n",
      "14 : YML007W\n",
      "15 : YER177W\n",
      "16 : YJL005W\n",
      "17 : YKR062W\n",
      "18 : YKL058W\n",
      "19 : YLR318W\n",
      "20 : YOR194C\n",
      "21 : YGR005C\n",
      "22 : YGR186W\n",
      "23 : YPL042C\n",
      "24 : YMR037C\n",
      "25 : YDR460W\n",
      "26 : YPL235W\n",
      "27 : YMR284W\n",
      "28 : YDR477W\n",
      "29 : YHR030C\n",
      "30 : YDL042C\n",
      "31 : YOL005C\n",
      "32 : YDR404C\n",
      "33 : YDR190C\n",
      "34 : YJR066W\n",
      "35 : YLR113W\n",
      "36 : YER171W\n",
      "37 : YOR210W\n",
      "38 : YEL009C\n",
      "39 : YPR086W\n",
      "40 : YPL129W\n",
      "41 : YBL088C\n",
      "42 : YGR252W\n",
      "43 : YOR151C\n",
      "44 : YBR154C\n",
      "45 : YPL178W\n",
      "46 : YER148W\n",
      "47 : YIL021W\n",
      "48 : YDL140C\n",
      "49 : YFL039C\n"
     ]
    },
    {
     "data": {
      "image/png": "[encoded data removed]",
      "text/plain": [
       "<Figure size 720x576 with 1 Axes>"
      ]
     },
     "metadata": {
      "needs_background": "light"
     },
     "output_type": "display_data"
    }
   ],
   "source": [
    "p1 = \"YBL093C\"\n",
    "p2 = \"YJR066W\"\n",
    "\n",
    "degree_dict = G.degree\n",
    "\n",
    "pp_distance = nx.shortest_path_length(G,p1,p2)\n",
    "\n",
    "print(\"This is the output of Elden's code, looking for paths between proteins\", p1, \"and\", p2)\n",
    "print(\"\")\n",
    "print(\"The proteins are\",pp_distance,\"steps apart\")\n",
    "print(\"\")\n",
    "\n",
    "all_geodesic_paths = list(nx.all_shortest_paths(G,p1,p2,weight=None));\n",
    "unique_elements = sorted(list(set(np.ravel(all_geodesic_paths))), key=lambda n:degree_dict[n]) #uniqueness\n",
    "path_degrees = [degree_dict[n] for n in unique_elements]\n",
    "\n",
    "print(\"There are\", len(all_geodesic_paths), \"paths of length\",pp_distance,\". They are:\")\n",
    "for path in all_geodesic_paths:\n",
    "    print(path)\n",
    "print(\"\")\n",
    "print(\"There are\", len(unique_elements), \"unique proteins among these paths. They are (ordered \"\n",
    "      + \"from lowest to highest degree; roughly representing 'importance'):\")\n",
    "\n",
    "for i in range(len(unique_elements)):\n",
    "    print(i,\":\",unique_elements[i])\n",
    "    \n",
    "plt.figure(figsize=(10,8))\n",
    "plt.scatter(range(len(unique_elements)),path_degrees)\n",
    "plt.ylabel(\"Degree\")\n",
    "plt.xlabel(\"index\");\n",
    "\n",
    "from matplotlib.ticker import (MultipleLocator, AutoMinorLocator)\n",
    "plt.gca().xaxis.set_minor_locator(MultipleLocator(5))\n",
    "plt.grid(axis = 'both', which='both');"
   ]
  },
  {
   "cell_type": "markdown",
   "id": "37297c2b",
   "metadata": {},
   "source": [
    "Clearly this is unsatisfying. Let's examine the longer paths as well"
   ]
  },
  {
   "cell_type": "code",
   "execution_count": 5,
   "id": "d4ef6fec",
   "metadata": {},
   "outputs": [
    {
     "name": "stdout",
     "output_type": "stream",
     "text": [
      "0.0\n"
     ]
    }
   ],
   "source": [
    "p1i = list(G.nodes).index(p1)\n",
    "p2i = list(G.nodes).index(p2)\n",
    "\n",
    "A = nx.to_numpy_array(G, weight=None) # We have to get rid of the weights.\n",
    "print(A[p1i,p2i])\n",
    "\n",
    "# Then the powers of A are:\n",
    "\n",
    "def An(n):\n",
    "    return lin.matrix_power(A,n)"
   ]
  },
  {
   "cell_type": "markdown",
   "id": "5acfb7da",
   "metadata": {},
   "source": [
    "Take T random pairs of proteins, and calculate the number of paths of length l=1,2,...,L between them. Record the average\n",
    "for each length, then compare to the same distribution for our two proteins of interest."
   ]
  },
  {
   "cell_type": "code",
   "execution_count": 6,
   "id": "3f7b8fb1",
   "metadata": {},
   "outputs": [
    {
     "name": "stdout",
     "output_type": "stream",
     "text": [
      "Calculating power 1 ...\n",
      "Calculating power 2 ...\n",
      "Calculating power 3 ...\n",
      "Calculating power 4 ...\n",
      "Done!\n"
     ]
    }
   ],
   "source": [
    "L = 4\n",
    "\n",
    "N = len(list(G.nodes));\n",
    "\n",
    "A_pows = [A] \n",
    "for l in range(0,L):\n",
    "    print(\"Calculating power\",l+1,\"...\")\n",
    "    A_pows.append(np.matmul(A_pows[l],A))\n",
    "\n",
    "print(\"Done!\")\n",
    "# precalculate the powers of A. This is sloooow"
   ]
  },
  {
   "cell_type": "code",
   "execution_count": 7,
   "id": "3681ad64",
   "metadata": {},
   "outputs": [
    {
     "name": "stdout",
     "output_type": "stream",
     "text": [
      "[0.0083, 0.9234, 160.0648, 31581.7518]\n"
     ]
    }
   ],
   "source": [
    "rand_Nls = list(np.zeros(L));\n",
    "T = 10000\n",
    "for t in range(T):\n",
    "    pr1, pr2 = rand.choice(range(N), size=2, replace=False)\n",
    "    for n in range(L):\n",
    "        rand_Nls[n] += A_pows[n][pr1,pr2]\n",
    "        #print(\"Done trial t =\",t,\"of\",T,\"at length l =\",n,\"of\",L)\n",
    "\n",
    "rand_Nls = [Nl/T for Nl in rand_Nls] # divide by the number of trials to get the mean\n",
    "print(rand_Nls)"
   ]
  },
  {
   "cell_type": "code",
   "execution_count": 8,
   "id": "64a3b23a",
   "metadata": {},
   "outputs": [
    {
     "name": "stdout",
     "output_type": "stream",
     "text": [
      "[0.0, 0.0, 69.0, 6007.0]\n"
     ]
    }
   ],
   "source": [
    "pp_Nls = list(np.zeros(L));\n",
    "for n in range(L):\n",
    "        pp_Nls[n] += A_pows[n][p1i,p2i]\n",
    "print(pp_Nls)"
   ]
  },
  {
   "cell_type": "code",
   "execution_count": 64,
   "id": "13ec6efa",
   "metadata": {},
   "outputs": [
    {
     "data": {
      "image/png": "[encoded data removed]",
      "text/plain": [
       "<Figure size 720x504 with 1 Axes>"
      ]
     },
     "metadata": {
      "needs_background": "light"
     },
     "output_type": "display_data"
    }
   ],
   "source": [
    "ls = range(1,L+1)\n",
    "\n",
    "x = np.arange(len(ls))  # the label locations\n",
    "width = 0.35  # the width of the bars\n",
    "\n",
    "fig, ax = plt.subplots(figsize=(10,7))\n",
    "rects1 = ax.bar(x - width/2, rand_Nls, width, label='Two Random nodes')\n",
    "rects2 = ax.bar(x + width/2, pp_Nls, width, label=str(p1) + \" and \" + str(p2))\n",
    "\n",
    "# Add some text for labels, title and custom x-axis tick labels, etc.\n",
    "ax.set_ylabel('Number of paths')\n",
    "ax.set_xlabel(\"Path length\")\n",
    "ax.set_title(\"Number of paths of a given length, connecting \" + str(p1) + \" and \" + str(p2)+\"\\n\")\n",
    "ax.set_xticks(x, ls)\n",
    "ax.legend()\n",
    "plt.yscale(\"log\")\n",
    "\n",
    "ax.bar_label(rects1, padding=3)\n",
    "ax.bar_label(rects2, padding=3)\n",
    "\n",
    "fig.tight_layout()\n",
    "\n",
    "plt.show()"
   ]
  },
  {
   "cell_type": "code",
   "execution_count": 53,
   "id": "1bd02dbc",
   "metadata": {},
   "outputs": [
    {
     "name": "stdout",
     "output_type": "stream",
     "text": [
      "4\n",
      "3\n",
      "3\n",
      "3\n",
      "5\n",
      "2\n",
      "3\n",
      "3\n",
      "4\n",
      "4\n"
     ]
    }
   ],
   "source": [
    "nodelist = list(G.nodes);\n",
    "\n",
    "for t in range(10):\n",
    "    pr1, pr2 = rand.choice(nodelist, size=2, replace=False)\n",
    "    print(nx.shortest_path_length(G,pr1,pr2))"
   ]
  },
  {
   "cell_type": "code",
   "execution_count": null,
   "id": "17ecace6",
   "metadata": {},
   "outputs": [],
   "source": []
  }
 ],
 "metadata": {
  "kernelspec": {
   "display_name": "Python 3 (ipykernel)",
   "language": "python",
   "name": "python3"
  },
  "language_info": {
   "codemirror_mode": {
    "name": "ipython",
    "version": 3
   },
   "file_extension": ".py",
   "mimetype": "text/x-python",
   "name": "python",
   "nbconvert_exporter": "python",
   "pygments_lexer": "ipython3",
   "version": "3.9.12"
  }
 },
 "nbformat": 4,
 "nbformat_minor": 5
}
