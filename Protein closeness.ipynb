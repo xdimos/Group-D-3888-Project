{
 "cells": [
  {
   "cell_type": "markdown",
   "id": "43a4f8f2",
   "metadata": {},
   "source": [
    "For Mariah, I am estimating the closeness of two human proteins, ENSP00000229239 and ENSP00000405573.\n",
    "\n",
    "I will do so by comparing their geodesic distance to the average distance, estimated from a handful of random pairs."
   ]
  },
  {
   "cell_type": "code",
   "execution_count": 1,
   "id": "97f66624",
   "metadata": {},
   "outputs": [],
   "source": [
    "\"\"\"Imports and arguments\"\"\"\n",
    "\n",
    "import csv\n",
    "\n",
    "import networkx as nx\n",
    "\n",
    "import numpy as np\n",
    "import scipy as sp\n",
    "import numpy.linalg as lin\n",
    "import numpy.random as rand\n",
    "import matplotlib.pyplot as plt\n",
    "import network_utilities as nu\n",
    "import networkx.algorithms.community as nx_comm\n",
    "import tensorflow as tf\n",
    "\n",
    "# some basic settings for plotting figures\n",
    "%matplotlib inline \n",
    "font = {'family' : 'serif',\n",
    "        'weight' : 'light',\n",
    "        'size'   : 20}\n",
    "\n",
    "plt.rc('font', **font)\n",
    "\n",
    "extra_outputs = False;"
   ]
  },
  {
   "cell_type": "code",
   "execution_count": 2,
   "id": "c5d39df1",
   "metadata": {},
   "outputs": [
    {
     "name": "stdout",
     "output_type": "stream",
     "text": [
      "Graph with 16566 nodes and 251863 edges\n"
     ]
    }
   ],
   "source": [
    "\"\"\"Loading data\"\"\"\n",
    "\n",
    "# This is the variable that will store the protein names. \n",
    "ess_list = []; \n",
    "\n",
    "with open('essential_proteins.csv', newline='') as ess_file:\n",
    "    reader = csv.reader(ess_file)\n",
    "    ess_data = list(reader)\n",
    "\n",
    "for i in range(len(ess_data)):\n",
    "    ess_list.append(ess_data[i][1])\n",
    "    \n",
    "# Read in the string-db for Yeast\n",
    "G0 = nx.read_weighted_edgelist(\"./homo_links.txt\",comments=\"#\",nodetype=str)\n",
    "\n",
    "# For interest, plot the distribution of confidence scores\n",
    "if (extra_outputs):\n",
    "    plt.figure(figsize=(6,6));\n",
    "    full_edges = G0.edges()\n",
    "    these_weights = [G0[u][v]['weight'] for u,v in full_edges]\n",
    "\n",
    "    plt.hist(these_weights, bins=40);\n",
    "    plt.title(\"Confidence score distribution\")\n",
    "    plt.xlabel(\"Confidence score\")\n",
    "    plt.ylabel(\"# Edges\")\n",
    "    plt.show();\n",
    "    \n",
    "# delete those edges with a combined score of <= threshold_score (small confidence)\n",
    "threshold_score = 700;\n",
    "for edge in G0.edges: \n",
    "    weight = list(G0.get_edge_data(edge[0],edge[1]).values())\n",
    "    if(weight[0] <= threshold_score):\n",
    "        G0.remove_edge(edge[0],edge[1])\n",
    "        \n",
    "# Take only the largest connected subgraph\n",
    "largest_cc = max(nx.connected_components(G0),key=len)\n",
    "G = G0.subgraph(largest_cc);\n",
    "print(G)"
   ]
  },
  {
   "cell_type": "markdown",
   "id": "c46f1cc0",
   "metadata": {},
   "source": [
    "First we look at the geodesic distance:"
   ]
  },
  {
   "cell_type": "code",
   "execution_count": 3,
   "id": "1832530a",
   "metadata": {},
   "outputs": [
    {
     "name": "stdout",
     "output_type": "stream",
     "text": [
      "1\n"
     ]
    }
   ],
   "source": [
    "p1 = \"ENSP00000229239\"\n",
    "p2 = \"ENSP00000405573\"\n",
    "\n",
    "pp_distance = nx.shortest_path_length(G,p1,p2)\n",
    "print(pp_distance)"
   ]
  },
  {
   "cell_type": "markdown",
   "id": "37297c2b",
   "metadata": {},
   "source": [
    "Clearly this is unsatisfying. Let's examine the longer paths as well"
   ]
  },
  {
   "cell_type": "code",
   "execution_count": 31,
   "id": "d4ef6fec",
   "metadata": {},
   "outputs": [
    {
     "name": "stdout",
     "output_type": "stream",
     "text": [
      "1.0\n"
     ]
    }
   ],
   "source": [
    "p1i = list(G.nodes).index(p1)\n",
    "p2i = list(G.nodes).index(p2)\n",
    "\n",
    "A = nx.to_numpy_array(G, weight=None) # We have to get rid of the weights.\n",
    "print(A[p1i,p2i])\n",
    "\n",
    "# Then the powers of A are:\n",
    "\n",
    "def An(n):\n",
    "    return lin.matrix_power(A,n)"
   ]
  },
  {
   "cell_type": "markdown",
   "id": "5acfb7da",
   "metadata": {},
   "source": [
    "Take T random pairs of proteins, and calculate the number of paths of length l=1,2,...,L between them. Record the average\n",
    "for each length, then compare to the same distribution for our two proteins of interest."
   ]
  },
  {
   "cell_type": "code",
   "execution_count": 47,
   "id": "3f7b8fb1",
   "metadata": {},
   "outputs": [
    {
     "name": "stdout",
     "output_type": "stream",
     "text": [
      "Calculating power 1 ...\n",
      "Calculating power 2 ...\n",
      "Calculating power 3 ...\n",
      "Calculating power 4 ...\n"
     ]
    }
   ],
   "source": [
    "L = 4\n",
    "\n",
    "N = len(list(G.nodes));\n",
    "\n",
    "A_pows = [A] \n",
    "for l in range(0,L):\n",
    "    print(\"Calculating power\",l+1,\"...\")\n",
    "    A_pows.append(np.matmul(A_pows[l],A))\n",
    "\n",
    "print(\"Done!\")\n",
    "# precalculate the powers of A. This is sloooow"
   ]
  },
  {
   "cell_type": "code",
   "execution_count": 48,
   "id": "3681ad64",
   "metadata": {},
   "outputs": [
    {
     "name": "stdout",
     "output_type": "stream",
     "text": [
      "[0.0019, 0.1514, 16.1691, 1926.3682]\n"
     ]
    }
   ],
   "source": [
    "rand_Nls = list(np.zeros(L));\n",
    "T = 10000\n",
    "for t in range(T):\n",
    "    pr1, pr2 = rand.choice(range(N), size=2, replace=False)\n",
    "    for n in range(L):\n",
    "        rand_Nls[n] += A_pows[n][pr1,pr2]\n",
    "        #print(\"Done trial t =\",t,\"of\",T,\"at length l =\",n,\"of\",L)\n",
    "\n",
    "rand_Nls = [Nl/T for Nl in rand_Nls] # divide by the number of trials to get the mean\n",
    "print(rand_Nls)"
   ]
  },
  {
   "cell_type": "code",
   "execution_count": 49,
   "id": "64a3b23a",
   "metadata": {},
   "outputs": [
    {
     "name": "stdout",
     "output_type": "stream",
     "text": [
      "[1.0, 31.0, 1551.0, 66343.0]\n"
     ]
    }
   ],
   "source": [
    "pp_Nls = list(np.zeros(L));\n",
    "for n in range(L):\n",
    "        pp_Nls[n] += A_pows[n][p1i,p2i]\n",
    "print(pp_Nls)"
   ]
  },
  {
   "cell_type": "code",
   "execution_count": 58,
   "id": "13ec6efa",
   "metadata": {},
   "outputs": [
    {
     "data": {
      "image/png": "[encoded data removed]",
      "text/plain": [
       "<Figure size 720x504 with 1 Axes>"
      ]
     },
     "metadata": {
      "needs_background": "light"
     },
     "output_type": "display_data"
    }
   ],
   "source": [
    "ls = range(1,L+1)\n",
    "\n",
    "x = np.arange(len(ls))  # the label locations\n",
    "width = 0.35  # the width of the bars\n",
    "\n",
    "fig, ax = plt.subplots(figsize=(10,7))\n",
    "rects1 = ax.bar(x - width/2, rand_Nls, width, label='Two Random nodes')\n",
    "rects2 = ax.bar(x + width/2, pp_Nls, width, label=\"Mariah's nodes\")\n",
    "\n",
    "# Add some text for labels, title and custom x-axis tick labels, etc.\n",
    "ax.set_ylabel('Number of paths')\n",
    "ax.set_xlabel(\"Path length\")\n",
    "ax.set_title(\"Number of paths of a given length, connecting two proteins\\n\")\n",
    "ax.set_xticks(x, ls)\n",
    "ax.legend()\n",
    "plt.yscale(\"log\")\n",
    "\n",
    "ax.bar_label(rects1, padding=3)\n",
    "ax.bar_label(rects2, padding=3)\n",
    "\n",
    "fig.tight_layout()\n",
    "\n",
    "plt.show()"
   ]
  },
  {
   "cell_type": "code",
   "execution_count": 53,
   "id": "1bd02dbc",
   "metadata": {},
   "outputs": [
    {
     "name": "stdout",
     "output_type": "stream",
     "text": [
      "4\n",
      "3\n",
      "3\n",
      "3\n",
      "5\n",
      "2\n",
      "3\n",
      "3\n",
      "4\n",
      "4\n"
     ]
    }
   ],
   "source": [
    "nodelist = list(G.nodes);\n",
    "\n",
    "for t in range(10):\n",
    "    pr1, pr2 = rand.choice(nodelist, size=2, replace=False)\n",
    "    print(nx.shortest_path_length(G,pr1,pr2))"
   ]
  },
  {
   "cell_type": "code",
   "execution_count": null,
   "id": "17ecace6",
   "metadata": {},
   "outputs": [],
   "source": []
  }
 ],
 "metadata": {
  "kernelspec": {
   "display_name": "Python 3 (ipykernel)",
   "language": "python",
   "name": "python3"
  },
  "language_info": {
   "codemirror_mode": {
    "name": "ipython",
    "version": 3
   },
   "file_extension": ".py",
   "mimetype": "text/x-python",
   "name": "python",
   "nbconvert_exporter": "python",
   "pygments_lexer": "ipython3",
   "version": "3.9.12"
  }
 },
 "nbformat": 4,
 "nbformat_minor": 5
}
